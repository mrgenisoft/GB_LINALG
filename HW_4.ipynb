{
 "cells": [
  {
   "cell_type": "code",
   "execution_count": 1,
   "metadata": {},
   "outputs": [],
   "source": [
    "import numpy as np"
   ]
  },
  {
   "cell_type": "markdown",
   "metadata": {},
   "source": [
    "__1.__ Вычислить определитель:"
   ]
  },
  {
   "cell_type": "markdown",
   "metadata": {},
   "source": [
    "   a)\n",
    "\n",
    "$\\begin{vmatrix}\n",
    "sinx & -cosx\\\\ \n",
    "cosx & sinx\n",
    "\\end{vmatrix} = sinx \\cdot sinx - (-cosx)\\cdot cosx = 1$"
   ]
  },
  {
   "cell_type": "markdown",
   "metadata": {},
   "source": [
    "   б)\n",
    "    \n",
    "$\\begin{vmatrix}\n",
    "4 & 2 & 3\\\\ \n",
    "0 & 5 & 1\\\\ \n",
    "0 & 0 & 9\n",
    "\\end{vmatrix} = 4\\cdot 5\\cdot 9 = 180$"
   ]
  },
  {
   "cell_type": "markdown",
   "metadata": {},
   "source": [
    "   в)\n",
    "\n",
    "$\\begin{vmatrix}\n",
    "1 & 2 & 3\\\\ \n",
    "4 & 5 & 6\\\\ \n",
    "7 & 8 & 9\n",
    "\\end{vmatrix}=\n",
    "1\\cdot\\begin{vmatrix}\n",
    "5 & 6\\\\ \n",
    "8 & 9\n",
    "\\end{vmatrix}-\n",
    "2\\cdot\\begin{vmatrix}\n",
    "4 & 6\\\\ \n",
    "7 & 9\n",
    "\\end{vmatrix}+\n",
    "3\\cdot\\begin{vmatrix}\n",
    "4 & 5\\\\ \n",
    "7 & 8\n",
    "\\end{vmatrix}=1\\cdot(5\\cdot9-6\\cdot8)-2\\cdot(4\\cdot9-6\\cdot7)+3\\cdot(4\\cdot8-5\\cdot7)=-3+12-9=0$"
   ]
  },
  {
   "cell_type": "markdown",
   "metadata": {},
   "source": [
    "__2.__ Определитель матрицы $A$ равен $4$. Найти:"
   ]
  },
  {
   "cell_type": "markdown",
   "metadata": {},
   "source": [
    "   а) $det(A^{2})=det(A)\\cdot det(A)=16$"
   ]
  },
  {
   "cell_type": "markdown",
   "metadata": {},
   "source": [
    "   б) $det(A^{T})=det(A)=4$"
   ]
  },
  {
   "cell_type": "markdown",
   "metadata": {},
   "source": [
    "   в) $det(2A)=2\\cdot det(A)=8$"
   ]
  },
  {
   "cell_type": "markdown",
   "metadata": {},
   "source": [
    "__3.__  Доказать, что матрица\n",
    "\n",
    "$$\\begin{pmatrix}\n",
    "-2 & 7 & -3\\\\ \n",
    "4 & -14 & 6\\\\ \n",
    "-3 & 7 & 13\n",
    "\\end{pmatrix}$$\n",
    "   \n",
    "вырожденная."
   ]
  },
  {
   "cell_type": "markdown",
   "metadata": {},
   "source": [
    "$$\\begin{vmatrix}\n",
    "-2 & 7 & -3\\\\ \n",
    "4 & -14 & 6\\\\ \n",
    "-3 & 7 & 13\n",
    "\\end{vmatrix}=\n",
    "-2\\cdot\\begin{vmatrix}\n",
    "-14 & 6\\\\ \n",
    "7 & 13\n",
    "\\end{vmatrix}-\n",
    "7\\cdot\\begin{vmatrix}\n",
    "4 & 6\\\\ \n",
    "-3 & 13\n",
    "\\end{vmatrix}-\n",
    "3\\cdot\\begin{vmatrix}\n",
    "4 & -14\\\\ \n",
    "-3 & 7\n",
    "\\end{vmatrix}=$$<br>$$\n",
    "-2\\cdot((-14\\cdot13-6\\cdot7)-7\\cdot(4\\cdot13-6\\cdot(-3))-3\\cdot(4\\cdot7-(-14)\\cdot(-3))=448-490+42=0$$"
   ]
  },
  {
   "cell_type": "markdown",
   "metadata": {},
   "source": [
    "__4.__ Найти ранг матрицы:"
   ]
  },
  {
   "cell_type": "markdown",
   "metadata": {},
   "source": [
    "   а) $\\begin{pmatrix}\n",
    "1 & 2 & 3\\\\ \n",
    "1 & 1 & 1\\\\ \n",
    "2 & 3 & 4\n",
    "\\end{pmatrix};$"
   ]
  },
  {
   "cell_type": "markdown",
   "metadata": {},
   "source": [
    "Третья строка является суммой первой и второй строк, и ее можно отбросить.<br>\n",
    "Затем из второй строки вычтем первую:\n",
    "$\\begin{pmatrix}\n",
    "1 & 2 & 3\\\\ \n",
    "0 & -1 & -2\n",
    "\\end{pmatrix}$<br>\n",
    "Таким образом, ранг равен <b>2</b>."
   ]
  },
  {
   "cell_type": "markdown",
   "metadata": {},
   "source": [
    "   б) $\\begin{pmatrix}\n",
    "0 & 0 & 2 & 1\\\\ \n",
    "0 & 0 & 2 & 2\\\\ \n",
    "0 & 0 & 4 & 3\\\\ \n",
    "2 & 3 & 5 & 6\n",
    "\\end{pmatrix}.$"
   ]
  },
  {
   "cell_type": "markdown",
   "metadata": {},
   "source": [
    "Третья строка является суммой первой и второй строк, и ее можно отбросить.<br>\n",
    "Затем поместим последнюю строку на место первой:\n",
    "$\\begin{pmatrix}\n",
    "2 & 3 & 5 & 6\\\\\n",
    "0 & 0 & 2 & 1\\\\ \n",
    "0 & 0 & 2 & 2\n",
    "\\end{pmatrix}.$<br>\n",
    "Далее ко второму столбцу прибавим последний:\n",
    "$\\begin{pmatrix}\n",
    "2 & 9 & 5 & 6\\\\\n",
    "0 & 1 & 2 & 1\\\\ \n",
    "0 & 2 & 2 & 2\n",
    "\\end{pmatrix}.$<br>\n",
    "Далее из второго столбца вычтем третий:\n",
    "$\\begin{pmatrix}\n",
    "2 & 4 & 5 & 6\\\\\n",
    "0 & -1 & 2 & 1\\\\ \n",
    "0 & 0 & 2 & 2\n",
    "\\end{pmatrix}.$<br>\n",
    "Таким образом, ранг равен <b>3</b>."
   ]
  },
  {
   "cell_type": "code",
   "execution_count": null,
   "metadata": {},
   "outputs": [],
   "source": []
  }
 ],
 "metadata": {
  "kernelspec": {
   "display_name": "Python 3",
   "language": "python",
   "name": "python3"
  },
  "language_info": {
   "codemirror_mode": {
    "name": "ipython",
    "version": 3
   },
   "file_extension": ".py",
   "mimetype": "text/x-python",
   "name": "python",
   "nbconvert_exporter": "python",
   "pygments_lexer": "ipython3",
   "version": "3.7.3"
  }
 },
 "nbformat": 4,
 "nbformat_minor": 2
}
